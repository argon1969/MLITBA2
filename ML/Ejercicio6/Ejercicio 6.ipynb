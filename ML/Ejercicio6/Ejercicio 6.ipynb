{
 "cells": [
  {
   "cell_type": "code",
   "execution_count": 35,
   "metadata": {
    "collapsed": false
   },
   "outputs": [
    {
     "name": "stdout",
     "output_type": "stream",
     "text": [
      "ingrese una palabragato\n",
      "gato NO es palindromo\n"
     ]
    }
   ],
   "source": [
    "palabra=input(\"ingrese una palabra\")\n",
    "indice = 0\n",
    "flag=False\n",
    "while indice < len(palabra):\n",
    "    if palabra[indice] != palabra[len(palabra)-indice-1]: \n",
    "        \n",
    "        print (palabra + \" NO es palindromo\")\n",
    "        flag=True\n",
    "        break\n",
    "    indice=indice+1\n",
    "\n",
    "if flag!= True: print (palabra + \" ES palindromo\")      "
   ]
  },
  {
   "cell_type": "code",
   "execution_count": null,
   "metadata": {
    "collapsed": true
   },
   "outputs": [],
   "source": []
  },
  {
   "cell_type": "code",
   "execution_count": null,
   "metadata": {
    "collapsed": true
   },
   "outputs": [],
   "source": []
  },
  {
   "cell_type": "code",
   "execution_count": null,
   "metadata": {
    "collapsed": true
   },
   "outputs": [],
   "source": []
  },
  {
   "cell_type": "code",
   "execution_count": null,
   "metadata": {
    "collapsed": true
   },
   "outputs": [],
   "source": []
  }
 ],
 "metadata": {
  "kernelspec": {
   "display_name": "Python 3",
   "language": "python",
   "name": "python3"
  },
  "language_info": {
   "codemirror_mode": {
    "name": "ipython",
    "version": 3
   },
   "file_extension": ".py",
   "mimetype": "text/x-python",
   "name": "python",
   "nbconvert_exporter": "python",
   "pygments_lexer": "ipython3",
   "version": "3.5.1"
  }
 },
 "nbformat": 4,
 "nbformat_minor": 0
}
