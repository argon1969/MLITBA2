{
 "cells": [
  {
   "cell_type": "code",
   "execution_count": 59,
   "metadata": {
    "collapsed": false
   },
   "outputs": [
    {
     "name": "stdout",
     "output_type": "stream",
     "text": [
      "Lista interseccion [1, 2, 3, 34]\n"
     ]
    }
   ],
   "source": [
    "# Ejercicio 5 - ML ITBA\n",
    "#----------------------\n",
    "\n",
    "# Creo las listas - Distintas opciones\n",
    "\n",
    "lista1 = [1, 1, 2, 3, 5, 8, 13, 21, 34, 55, 89]\n",
    "lista2 = [1, 2, 3, 4,34]\n",
    "\n",
    "#lista1 = [\"uno\", \"dos\",\"tres\"]\n",
    "#lista2 = [\"dos\"]\n",
    "\n",
    "#lista1 = range(0,100)\n",
    "#lista2 = range (0,10)\n",
    "\n",
    "# Calculo sus tamanios\n",
    "\n",
    "tamanio1 = len(lista1)\n",
    "tamanio2 = len(lista2)\n",
    "\n",
    "if (tamanio1<tamanio2):\n",
    "    tamanio_min=tamanio1\n",
    "else:\n",
    "    tamanio_min=tamanio2\n",
    "\n",
    "\n",
    "# Creo la lista interseccion\n",
    "\n",
    "lista_intersec=[]\n",
    "    \n",
    "#Recorro las listas \n",
    "\n",
    "se_repite=False\n",
    "indice_i=0\n",
    "\n",
    "for x in range(0,tamanio1):\n",
    "    for x2 in range(0,tamanio2):\n",
    "        se_repite=False\n",
    "        if (lista1[x]==lista2[x2]):\n",
    "            # Verifico si no se repite\n",
    "            for b in range(0,indice_i):\n",
    "                if(lista_intersec[b]==lista1[x]):\n",
    "                    se_repite=True\n",
    "            if(se_repite==False):\n",
    "                #Agrego un item a la lista de interseccion\n",
    "                lista_intersec.append(lista1[x])\n",
    "                indice_i=indice_i+1\n",
    "\n",
    "print(\"Lista interseccion\", lista_intersec)\n",
    "\n",
    "        "
   ]
  },
  {
   "cell_type": "code",
   "execution_count": null,
   "metadata": {
    "collapsed": true
   },
   "outputs": [],
   "source": []
  }
 ],
 "metadata": {
  "kernelspec": {
   "display_name": "Python 3",
   "language": "python",
   "name": "python3"
  },
  "language_info": {
   "codemirror_mode": {
    "name": "ipython",
    "version": 3
   },
   "file_extension": ".py",
   "mimetype": "text/x-python",
   "name": "python",
   "nbconvert_exporter": "python",
   "pygments_lexer": "ipython3",
   "version": "3.5.1"
  }
 },
 "nbformat": 4,
 "nbformat_minor": 0
}
