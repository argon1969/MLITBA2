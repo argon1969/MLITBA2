{
 "cells": [
  {
   "cell_type": "code",
   "execution_count": 27,
   "metadata": {
    "collapsed": false
   },
   "outputs": [
    {
     "name": "stdout",
     "output_type": "stream",
     "text": [
      "1\n",
      "1\n",
      "2\n",
      "3\n",
      "34\n",
      "[1, 2, 3, 34]\n"
     ]
    }
   ],
   "source": [
    "lista1 = [1, 1, 2, 3, 5, 8, 13, 21, 34, 55, 89]\n",
    "lista2 = [1, 2, 3, 4,34]\n",
    "lista_comun=[]\n",
    "lista_comun=[x for x in lista1 for y in lista2 if x==y]\n",
    "lista_comun.sort()\n",
    "i=0\n",
    "for x in lista_comun: \n",
    "    print(x)\n",
    "    if (i<len(lista_comun)-1 and lista_comun[i]==lista_comun[i+1]) :\n",
    "        print(x)\n",
    "        del lista_comun[x]\n",
    "    i=i+1\n",
    "print(lista_comun)"
   ]
  }
 ],
 "metadata": {
  "kernelspec": {
   "display_name": "Python 3",
   "language": "python",
   "name": "python3"
  },
  "language_info": {
   "codemirror_mode": {
    "name": "ipython",
    "version": 3
   },
   "file_extension": ".py",
   "mimetype": "text/x-python",
   "name": "python",
   "nbconvert_exporter": "python",
   "pygments_lexer": "ipython3",
   "version": "3.5.1"
  }
 },
 "nbformat": 4,
 "nbformat_minor": 0
}
